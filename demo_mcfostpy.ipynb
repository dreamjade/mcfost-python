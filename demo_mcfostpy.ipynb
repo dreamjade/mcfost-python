{
 "cells": [
  {
   "cell_type": "markdown",
   "metadata": {},
   "source": [
    "# MCFOST Python Library Demo"
   ]
  },
  {
   "cell_type": "markdown",
   "metadata": {},
   "source": [
    "**Assumptions:** This demo assumes you are familiar with the basics of the MCFOST astrophysical radiative transfer code, and have a working copy of that installed on your system. "
   ]
  },
  {
   "cell_type": "markdown",
   "metadata": {},
   "source": [
    "This demo further assumes you are running this notebook from its location within a copy of mcfost-python git directory; specifically that there's a subdirectory named 'docs/example' which contains the ref2.19.para sample parameter file, and optionally the results of running MCFOST on it to produce an SED and an image at 1.0 microns. You can do that directly from the command line as follows, or we will show below how to invoke this from within Python. \n",
    "\n",
    "   >  mcfost ref2.20.para -rt\n",
    "\n",
    "   >  mcfost ref2.20.para -img 1.0 -rt"
   ]
  },
  {
   "cell_type": "code",
   "execution_count": 1,
   "metadata": {
    "collapsed": false
   },
   "outputs": [],
   "source": [
    "%load_ext autoreload\n",
    "%autoreload 2\n",
    "%aimport mcfost\n",
    "%matplotlib inline\n",
    "\n",
    "import numpy as np"
   ]
  },
  {
   "cell_type": "markdown",
   "metadata": {},
   "source": [
    "Quick test of the extinction calculator:"
   ]
  },
  {
   "cell_type": "code",
   "execution_count": 2,
   "metadata": {
    "collapsed": false
   },
   "outputs": [
    {
     "name": "stdout",
     "output_type": "stream",
     "text": [
      "[ 2.94121201  2.88260425  1.37797835  0.79933598  0.4339158   0.25539264\n",
      "  0.16192279  0.06803995  0.01810171  0.01516129  0.01300451  0.01130458]\n"
     ]
    }
   ],
   "source": [
    "print(mcfost.ccm_extinction(3.1,[0.15,0.2,0.3,0.4,0.5,0.6,0.7,0.8,0.9,1.0,1.1,1.2]))"
   ]
  },
  {
   "cell_type": "markdown",
   "metadata": {},
   "source": [
    "## General Overview"
   ]
  },
  {
   "cell_type": "markdown",
   "metadata": {},
   "source": [
    "This package implements a set of Python object classes to represent the different sorts of datasets one encounters when working with MCFOST: parameter files, model results including SEDs and images, observation results including SEDs and images. The intent is that the model SED class and the observed SED class interfaces look as similar as possible, and likewise for the images. \n",
    "\n",
    "Once you have both model and observed data, it becomes possible to calculate chi^2 for individual fits, and use these to generate the relative conditional probability of a model given the data. This can be used in an MCMC calculation using the emcee package to derive the overall posterior probability distributions. "
   ]
  },
  {
   "cell_type": "markdown",
   "metadata": {},
   "source": [
    "## Working with Parameter Files"
   ]
  },
  {
   "cell_type": "markdown",
   "metadata": {},
   "source": [
    "We can read in parameter files into a ``Paramfile`` object:"
   ]
  },
  {
   "cell_type": "code",
   "execution_count": 3,
   "metadata": {
    "collapsed": false
   },
   "outputs": [],
   "source": [
    "par = mcfost.Paramfile('docs/example/ref2.20.para')"
   ]
  },
  {
   "cell_type": "markdown",
   "metadata": {},
   "source": [
    "The resulting object's attributes provide read/write access to all the settings in that parameter file. There are many, many of these. "
   ]
  },
  {
   "cell_type": "code",
   "execution_count": 4,
   "metadata": {
    "collapsed": false
   },
   "outputs": [
    {
     "name": "stdout",
     "output_type": "stream",
     "text": [
      "Distance: 140.0 pc\n",
      "Wavelength range: 0.1  to 3000.0 microns\n",
      "Changing distance to 200 pc\n",
      "Distance: 200 pc\n"
     ]
    }
   ],
   "source": [
    "print(\"Distance:\", par.distance, 'pc')\n",
    "print(\"Wavelength range:\", par.lambda_min, \" to\", par.lambda_max, \"microns\")\n",
    "\n",
    "print(\"Changing distance to 200 pc\")\n",
    "par.distance = 200\n",
    "print(\"Distance:\", par.distance, 'pc')"
   ]
  },
  {
   "cell_type": "markdown",
   "metadata": {},
   "source": [
    "This also includes some quantities which are computed from the parameters, not directly stated in the parameter file.  Currently these computed quantities are only calculated when the Paramfile is read from disk, and don't automatically update if you change some setting. This should be improved eventually. "
   ]
  },
  {
   "cell_type": "code",
   "execution_count": 5,
   "metadata": {
    "collapsed": false
   },
   "outputs": [
    {
     "name": "stdout",
     "output_type": "stream",
     "text": [
      "Wavelengths [  1.10859065e-01   1.36242824e-01   1.67438785e-01   2.05777785e-01\n",
      "   2.52895390e-01   3.10801666e-01   3.81966929e-01   4.69427133e-01\n",
      "   5.76913383e-01   7.09011107e-01   8.71355674e-01   1.07087280e+00\n",
      "   1.31607401e+00   1.61741974e+00   1.98776557e+00   2.44291068e+00\n",
      "   3.00227185e+00   3.68971175e+00   4.53455699e+00   5.57284917e+00\n",
      "   6.84888248e+00   8.41709327e+00   1.03443824e+01   1.27129691e+01\n",
      "   1.56238987e+01   1.92013534e+01   2.35979494e+01   2.90012482e+01\n",
      "   3.56417578e+01   4.38027665e+01   5.38324276e+01   6.61586128e+01\n",
      "   8.13071645e+01   9.99243290e+01   1.22804326e+02   1.50923230e+02\n",
      "   1.85480610e+02   2.27950706e+02   2.80145316e+02   3.44291096e+02\n",
      "   4.23124542e+02   5.20008738e+02   6.39076821e+02   7.85408309e+02\n",
      "   9.65245791e+02   1.18626124e+03   1.45788332e+03   1.79169958e+03\n",
      "   2.20195083e+03   2.70613864e+03]\n",
      "Inclinations in RT mode:  [ 45.]\n"
     ]
    }
   ],
   "source": [
    "print(\"Wavelengths\", par.wavelengths)\n",
    "print(\"Inclinations in RT mode: \", par.inclinations)"
   ]
  },
  {
   "cell_type": "markdown",
   "metadata": {},
   "source": [
    "Some of the items which can be repeated multiple times in a parameter files are stored as lists of dicts.  For instance, there's a \"density_zones\" list attribute (which can have multiple entries if there are multiple zones defined), each of which in turn contains a \"dust\" list attribute (which can have multiple entries if that zone has more than one type of dust.)"
   ]
  },
  {
   "cell_type": "code",
   "execution_count": 6,
   "metadata": {
    "collapsed": false
   },
   "outputs": [
    {
     "name": "stdout",
     "output_type": "stream",
     "text": [
      "[{'dust_mass': 0.001, 'edge': 0.0, 'r_critical': 100.0, 'flaring_exp': 1.125, 'reference_radius': 100.0, 'r_out': 300.0, 'gamma_exp': 0.0, 'zone_type': 1, 'debris_disk_vertical_profile_exponent': 2.0, 'gas_to_dust_ratio': 100.0, 'grain_type': 'Mie', 'dust_nspecies': 1, 'scale_height': 10.0, 'dust': [{'mixing_rule': 2, 'amin': 0.03, 'porosity': 0.0, 'grain_type': 'Mie', 'mass_fraction': 1.0, 'ncomponents': 1, 'filename': 'Draine_Si_sUV.dat', 'volume_fraction': 1.0, 'aexp': 3.5, 'amax': 2000.0, 'ngrains': 100, 'heating': 1}], 'r_in': 1.0, 'surface_density_exp': -0.5}]\n"
     ]
    }
   ],
   "source": [
    "print(par.density_zones)"
   ]
  },
  {
   "cell_type": "markdown",
   "metadata": {},
   "source": [
    "This can all get rather complicated. There are some convenience shorthands defined for accessing the first elements of these lists, for instance ``par.dust`` is equivalent to ``par.density_zones[0]['dust'][0]``. If you want to access more than the first one you must use the full syntax. "
   ]
  },
  {
   "cell_type": "markdown",
   "metadata": {},
   "source": [
    "**Cautionary Note:** The API for this all could use some cleanup; the names used for the various different parameter settings are not entirely consistent. We should think some about how much we can try for consistent naming conventions between the Python, IDL, Yorick variable names and the name/descriptions used in the software manual.  And furthermore the Python code here is not yet consistent in terms of using objects with attributes versus dicts. This needs to be made better, time permitting. "
   ]
  },
  {
   "cell_type": "markdown",
   "metadata": {},
   "source": [
    "You can view a parameter file in text form just by casting it to a string, and there is a \".writeto()\" method to save it to a file."
   ]
  },
  {
   "cell_type": "code",
   "execution_count": 7,
   "metadata": {
    "collapsed": false
   },
   "outputs": [
    {
     "name": "stdout",
     "output_type": "stream",
     "text": [
      "2.20                      mcfost version\n",
      "\n",
      "#Number of photon packages\n",
      "  1.28e+05                nbr_photons_eq_th  : T computation\n",
      "  1280                    nbr_photons_lambda : SED computation\n",
      "  1.28e+05                nbr_photons_image : images computation\n",
      "\n",
      "#Wavelength\n",
      "  50  0.1   3000          n_lambda, lambda_min, lambda_max [microns]\n",
      "  T T T                   compute temperature?, compute sed?, use default wavelength grid ?\n",
      "  IMLup.lambda           wavelength file (if previous parameter is F)\n",
      "  F T                     separation of different contributions?, stokes parameters?\n",
      "\n",
      "#Grid geometry and size\n",
      "  1                       1 = cylindrical, 2 = spherical, 3 = Voronoi tesselation (this is in beta, please ask Christophe)\n",
      "  100  70  1 20           n_rad (log distribution), nz (or n_theta), n_az, n_rad_in\n",
      "\n",
      "#Maps\n",
      "  101 101 3000.0        grid (nx,ny), size [AU]\n",
      "  10 1               MC : N_bin_incl, N_bin_az\n",
      "  45.0  45.0   1 F    RT: imin, imax, n_incl, centered ?\n",
      "  0.0   0.0    1    RT: az_min, az_max, n_az\n",
      "  200.00                 distance (pc)\n",
      "  0.00                    disk PA\n",
      "  \n",
      "#Scattering method\n",
      "  0                      0=auto, 1=grain prop, 2=cell prop\n",
      "  1                      1=Mie, 2=hg (2 implies the loss of polarizarion)\n",
      "\n",
      "#Symmetries\n",
      "  T                      image symmetry\n",
      "  T                      central symmetry\n",
      "  T                      axial symmetry (important only if N_phi > 1)\n",
      "\n",
      "#Disk physics\n",
      "  0  0.50    1.00        dust_settling (0=no settling, 1=parametric, 2=Dubrulle, 3=Fromang), exp_strat, a_strat (for parametric settling)\n",
      "  F                       dust radial migration\n",
      "  F                      sublimate dust\n",
      "  F                       hydrostatic equilibrium\n",
      "  F  1e-05                 viscous heating, alpha_viscosity\n",
      "\n",
      "#Number of zones : 1 zone = 1 density structure + corresponding grain properties\n",
      "  1\n",
      "      \n",
      "#Density structure\n",
      "  1                       zone type : 1 = disk, 2 = tapered-edge disk, 3 = envelope, 4 = debris disk, 5 = wall\n",
      "  1.00e-03   100.0        dust mass,  gas-to-dust mass ratio\n",
      "  10.0   100.0  2.0             scale height, reference radius (AU), unused for envelope, vertical profile exponent (only for debris disk)\n",
      "  1.0     0.0    300.0  100.0   Rin, edge, Rout, Rc (AU) Rc is only used for tappered-edge & debris disks (Rout set to 8*Rc if Rout==0)\n",
      "  1.125                     flaring exponent, unused for envelope\n",
      "  -0.500 0.000                 surface density exponent (or -gamma for tappered-edge disk or volume density for envelope), usually < 0, -gamma_exp (or alpha_in & alpha_out for debris disk)\n",
      "        \n",
      "#Cavity : everything is empty above the surface\n",
      "  F                        cavity ?\n",
      "  15.0   50.0              height, reference radius (AU)\n",
      "  1.5                      flaring exponent\n",
      "        \n",
      "#Grain properties\n",
      "  1                       Number of species\n",
      "  Mie 1  2 0.00  1.00  0.9     Grain type (Mie or DHS), N_components, mixing rule (1 = EMT or 2 = coating),  porosity, mass fraction, Vmax (for DHS)\n",
      "  Draine_Si_sUV.dat  1.0    Optical indices file, volume fraction\n",
      "  1                       Heating method : 1 = RE + LTE, 2 = RE + NLTE, 3 = NRE\n",
      "  0.030  2000.0   3.5 100   amin, amax, aexp, nbr_grains\n",
      "      \n",
      "#Molecular RT settings\n",
      "  T T T 15.              lpop, laccurate_pop, LTE, profile width\n",
      "  0.2                    v_turb (delta)\n",
      "  1                      nmol\n",
      "  co@xpol.dat 6          molecular data filename, level_max\n",
      "  1.0 50                 vmax (km.s-1), n_speed\n",
      "  T 1.e-6 abundance.fits.gz   cst molecule abundance ?, abundance, abundance file\n",
      "  T  3                   ray tracing ?,  number of lines in ray-tracing\n",
      "  1 2 3                  transition numbers\n",
      "      \n",
      "#Star properties\n",
      "  1 Number of stars\n",
      "  4000.0    2.0   1.0   0.0   0.0   0.0 T       Temp, radius (solar radius),M (solar mass),x,y,z (AU), is a blackbody?\n",
      "  b'lte4000-3.5.NextGen.fits.gz'\n",
      "  0.1    2.2       fUV, slope_fUV \n"
     ]
    }
   ],
   "source": [
    "print(par)"
   ]
  },
  {
   "cell_type": "markdown",
   "metadata": {},
   "source": [
    "## Running MCFOST calculations"
   ]
  },
  {
   "cell_type": "markdown",
   "metadata": {},
   "source": [
    "MCFOST calculations may be executed for a given parameter file or for many parameter files at once. "
   ]
  },
  {
   "cell_type": "markdown",
   "metadata": {},
   "source": [
    "Note that when you run a parameter file, the wrapper function may optionally move that parameter file to a new subdirectory before running it. This is useful if you're running a grid or MCMC and want each parameter file's results in its own subdirectory (the typical case). But you can disable this behavior if it's not desired. "
   ]
  },
  {
   "cell_type": "markdown",
   "metadata": {},
   "source": [
    "For example, the following line will create an SED and two images for the example reference parameter file included with MCFOST and with this Python package. Warning, this will take a long time to run:  "
   ]
  },
  {
   "cell_type": "code",
   "execution_count": 8,
   "metadata": {
    "collapsed": false
   },
   "outputs": [
    {
     "name": "stderr",
     "output_type": "stream",
     "text": [
      "INFO:mcfost:Running MCFOST for: docs/example/ref2.20.para\n",
      "INFO:mcfost:Computing SED for docs/example/ref2.20.para\n",
      "INFO:mcfost:SED results written to /Users/cpinte/mcfost-python/docs/example/data_th\n",
      "INFO:mcfost:Computing image at 0.8 microns for docs/example/ref2.20.para\n",
      "INFO:mcfost:Computing image at 1.0 microns for docs/example/ref2.20.para\n",
      "INFO:mcfost:Calculation complete.\n"
     ]
    }
   ],
   "source": [
    "type('docs/example/ref2.20.para')\n",
    "res = mcfost.run_one_file('docs/example/ref2.20.para', wavelengths=[0.8, 1.0], move_to_subdir=False)"
   ]
  },
  {
   "cell_type": "markdown",
   "metadata": {},
   "source": [
    "# Working with Model Results"
   ]
  },
  {
   "cell_type": "markdown",
   "metadata": {},
   "source": [
    "The ModelResults class provides an interface to work with MCFOST model results for *a single model*. You instantiate it with a directory path to an MCFOST results directory (i.e. the parent directory that contains 'data_th' as a subdirectory.)\n"
   ]
  },
  {
   "cell_type": "code",
   "execution_count": 9,
   "metadata": {
    "collapsed": false
   },
   "outputs": [
    {
     "name": "stdout",
     "output_type": "stream",
     "text": [
      "<MCFOST ModelResults in directory '/Users/cpinte/mcfost-python/docs/example'>\n",
      "['0.8', '1.0']\n",
      "Model results in /Users/cpinte/mcfost-python/docs/example for ref2.20.para\n",
      "    Model has 1 inclinations from 45.0 to 45.0\n",
      "    SED computed from 0.1 - 3000.0 microns using 50 wavelengths\n",
      "    Images computed for 2 wavelengths: [ 0.8  1. ] micron\n"
     ]
    }
   ],
   "source": [
    "model = mcfost.ModelResults('docs/example/')\n",
    "print(model)\n",
    "print(list(model._wavelengths_lookup.values()))\n",
    "model.describe()"
   ]
  },
  {
   "cell_type": "markdown",
   "metadata": {},
   "source": [
    "## Working with Model Results: SEDs"
   ]
  },
  {
   "cell_type": "markdown",
   "metadata": {},
   "source": [
    "The model contains an ``sed`` attribute which is an object representing the calculated SED, and an ``images`` attribute which is a dict of objects representing all available image wavelengths. "
   ]
  },
  {
   "cell_type": "markdown",
   "metadata": {},
   "source": [
    "For the ``sed`` object, there are attributes ``.wavelength``, ``.flux``, ``.nu_fnu``, ``.uncert`` and so forth. The results are returned as ``astropy.Quantity`` arrays with the appropriate units.  ``wavelength`` and ``inclination`` are 1D arrays, while ``flux`` and so forth are 2D arrays with shape equal to (# of inclinations, # of wavelengths)."
   ]
  },
  {
   "cell_type": "code",
   "execution_count": 10,
   "metadata": {
    "collapsed": false
   },
   "outputs": [
    {
     "data": {
      "text/plain": [
       "<matplotlib.axes._subplots.AxesSubplot at 0x10bb0a7b8>"
      ]
     },
     "execution_count": 10,
     "metadata": {},
     "output_type": "execute_result"
    },
    {
     "data": {
      "image/png": "[encoded data removed]",
      "text/plain": [
       "<matplotlib.figure.Figure at 0x106420940>"
      ]
     },
     "metadata": {},
     "output_type": "display_data"
    }
   ],
   "source": [
    "model.sed.plot()"
   ]
  },
  {
   "cell_type": "code",
   "execution_count": 11,
   "metadata": {
    "collapsed": false
   },
   "outputs": [
    {
     "data": {
      "text/latex": [
       "$[0.11085907,~0.13624282,~0.16743878,~0.20577778,~0.25289539,~0.31080167,~0.38196693,~0.46942713,~0.57691338,~0.70901111,~0.87135567,~1.0708728,~1.316074,~1.6174197,~1.9877656,~2.4429107,~3.0022718,~3.6897117,~4.534557,~5.5728492,~6.8488825,~8.4170933,~10.344382,~12.712969,~15.623899,~19.201353,~23.597949,~29.001248,~35.641758,~43.802766,~53.832428,~66.158613,~81.307164,~99.924329,~122.80433,~150.92323,~185.48061,~227.95071,~280.14532,~344.2911,~423.12454,~520.00874,~639.07682,~785.40831,~965.24579,~1186.2612,~1457.8833,~1791.6996,~2201.9508,~2706.1386] \\; \\mathrm{\\mu m}$"
      ],
      "text/plain": [
       "<Quantity [  1.10859065e-01,  1.36242824e-01,  1.67438785e-01,\n",
       "             2.05777785e-01,  2.52895390e-01,  3.10801666e-01,\n",
       "             3.81966929e-01,  4.69427133e-01,  5.76913383e-01,\n",
       "             7.09011107e-01,  8.71355674e-01,  1.07087280e+00,\n",
       "             1.31607401e+00,  1.61741974e+00,  1.98776557e+00,\n",
       "             2.44291068e+00,  3.00227185e+00,  3.68971175e+00,\n",
       "             4.53455699e+00,  5.57284917e+00,  6.84888248e+00,\n",
       "             8.41709327e+00,  1.03443824e+01,  1.27129691e+01,\n",
       "             1.56238987e+01,  1.92013534e+01,  2.35979494e+01,\n",
       "             2.90012482e+01,  3.56417578e+01,  4.38027665e+01,\n",
       "             5.38324276e+01,  6.61586128e+01,  8.13071645e+01,\n",
       "             9.99243290e+01,  1.22804326e+02,  1.50923230e+02,\n",
       "             1.85480610e+02,  2.27950706e+02,  2.80145316e+02,\n",
       "             3.44291096e+02,  4.23124542e+02,  5.20008738e+02,\n",
       "             6.39076821e+02,  7.85408309e+02,  9.65245791e+02,\n",
       "             1.18626124e+03,  1.45788332e+03,  1.79169958e+03,\n",
       "             2.20195083e+03,  2.70613864e+03] micron>"
      ]
     },
     "execution_count": 11,
     "metadata": {},
     "output_type": "execute_result"
    }
   ],
   "source": [
    "model.sed.wavelength"
   ]
  },
  {
   "cell_type": "code",
   "execution_count": 12,
   "metadata": {
    "collapsed": false
   },
   "outputs": [
    {
     "data": {
      "text/plain": [
       "(1, 50)"
      ]
     },
     "execution_count": 12,
     "metadata": {},
     "output_type": "execute_result"
    }
   ],
   "source": [
    "model.sed.flux.shape"
   ]
  },
  {
   "cell_type": "markdown",
   "metadata": {},
   "source": [
    "## Working with Model Results: Images"
   ]
  },
  {
   "cell_type": "markdown",
   "metadata": {},
   "source": [
    "Each ModelResults instance will have an attribute ``.images`` which is a collection containing the different image outputs. This looks like a Python ``dict`` but with some convenience customizations for use with MCFOST. For instance you can index it with either strings or floats for the wavelength interchangably. \n",
    "\n",
    "Each item in this dict is an ``astropy.io.fits`` HDU containing the image data and its header. "
   ]
  },
  {
   "cell_type": "code",
   "execution_count": 13,
   "metadata": {
    "collapsed": false
   },
   "outputs": [
    {
     "data": {
      "text/latex": [
       "$[0.8,~1] \\; \\mathrm{\\mu m}$"
      ],
      "text/plain": [
       "<Quantity [ 0.8, 1. ] micron>"
      ]
     },
     "execution_count": 13,
     "metadata": {},
     "output_type": "execute_result"
    }
   ],
   "source": [
    "model.images.wavelengths"
   ]
  },
  {
   "cell_type": "code",
   "execution_count": 14,
   "metadata": {
    "collapsed": false
   },
   "outputs": [
    {
     "name": "stdout",
     "output_type": "stream",
     "text": [
      "dict_values(['0.8', '1.0'])\n"
     ]
    }
   ],
   "source": [
    "print(model.images.keys())"
   ]
  },
  {
   "cell_type": "code",
   "execution_count": 15,
   "metadata": {
    "collapsed": false
   },
   "outputs": [
    {
     "name": "stdout",
     "output_type": "stream",
     "text": [
      "<astropy.io.fits.hdu.image.PrimaryHDU object at 0x10e524b70>\n",
      "<astropy.io.fits.hdu.image.PrimaryHDU object at 0x10e524b70>\n",
      "<astropy.io.fits.hdu.image.PrimaryHDU object at 0x10e524b70>\n"
     ]
    }
   ],
   "source": [
    "print(model.images[0.8])\n",
    "print(model.images['0.8'])  # This is the exact same \n",
    "print(model.images[' 000.8000'])  # So is this"
   ]
  },
  {
   "cell_type": "code",
   "execution_count": 16,
   "metadata": {
    "collapsed": false
   },
   "outputs": [
    {
     "data": {
      "text/plain": [
       "SIMPLE  =                    T / file does conform to FITS standard             \n",
       "BITPIX  =                  -32 / number of bits per data pixel                  \n",
       "NAXIS   =                    5 / number of data axes                            \n",
       "NAXIS1  =                  101 / length of data axis 1                          \n",
       "NAXIS2  =                  101 / length of data axis 2                          \n",
       "NAXIS3  =                    1 / length of data axis 3                          \n",
       "NAXIS4  =                    1 / length of data axis 4                          \n",
       "NAXIS5  =                    4 / length of data axis 5                          \n",
       "EXTEND  =                    T / FITS dataset may contain extensions            \n",
       "COMMENT   FITS (Flexible Image Transport System) format is defined in 'Astronomy\n",
       "COMMENT   and Astrophysics', volume 376, page 359; bibcode: 2001A&A...376..359H \n",
       "WAVE    =                   1. / wavelength [microns]                           \n",
       "CTYPE1  = 'RA---TAN'                                                            \n",
       "CRVAL1  =                   0. / RAD                                            \n",
       "CRPIX1  =                   51                                                  \n",
       "CDELT1  =            -5.89E-05 / pixel scale x [deg]                            \n",
       "CTYPE2  = 'DEC--TAN'                                                            \n",
       "CRVAL2  =                   0. / DEC                                            \n",
       "CRPIX2  =                   51                                                  \n",
       "CDELT2  =             5.89E-05 / pixel scale y [deg]                            \n",
       "BUNIT   = 'W.m-2.pixel-1'                                                       \n",
       "FLUX_1  = 'I = total flux'                                                      \n",
       "FLUX_2  = 'Q       '                                                            \n",
       "FLUX_3  = 'U       '                                                            \n",
       "FLUX_4  = 'V       '                                                            "
      ]
     },
     "execution_count": 16,
     "metadata": {},
     "output_type": "execute_result"
    }
   ],
   "source": [
    "model.images[1].header"
   ]
  },
  {
   "cell_type": "markdown",
   "metadata": {},
   "source": [
    "For now there is a \"plot_image\" function to display images. Maybe eventually this should become a method on a ModelImage object once such a thing would exist? "
   ]
  },
  {
   "cell_type": "code",
   "execution_count": 17,
   "metadata": {
    "collapsed": false
   },
   "outputs": [
    {
     "name": "stderr",
     "output_type": "stream",
     "text": [
      "/Users/cpinte/Software/miniconda3/lib/python3.4/site-packages/matplotlib/collections.py:590: FutureWarning: elementwise comparison failed; returning scalar instead, but in the future will perform elementwise comparison\n",
      "  if self._edgecolors == str('face'):\n"
     ]
    },
    {
     "data": {
      "image/png": "[encoded data removed]",
      "text/plain": [
       "<matplotlib.figure.Figure at 0x10e647550>"
      ]
     },
     "metadata": {},
     "output_type": "display_data"
    }
   ],
   "source": [
    "model.plot_image(0.8, axes_units='pixels', dynamic_range=1e8, colorbar=True)"
   ]
  },
  {
   "cell_type": "markdown",
   "metadata": {},
   "source": [
    "## Working with Observed Data"
   ]
  },
  {
   "cell_type": "markdown",
   "metadata": {},
   "source": [
    "The observations class is compatible with the same file formats and index file that MCRE uses. You can instantiate it with a path for a directory containing the observations and the index text file. "
   ]
  },
  {
   "cell_type": "code",
   "execution_count": null,
   "metadata": {
    "collapsed": false
   },
   "outputs": [],
   "source": [
    "#obs = mcfost.Observations('/Users/mperrin/data/mcfost/esoha569/observations')"
   ]
  },
  {
   "cell_type": "markdown",
   "metadata": {},
   "source": [
    "There are ``.file_names``, ``.file_types``, and ``.file_wavelengths`` attributes that contain the entries from that table. "
   ]
  },
  {
   "cell_type": "code",
   "execution_count": null,
   "metadata": {
    "collapsed": false
   },
   "outputs": [],
   "source": [
    "#print obs.file_names"
   ]
  },
  {
   "cell_type": "markdown",
   "metadata": {},
   "source": [
    "The observations SED looks essentially identical to the model SED in its class interface. "
   ]
  },
  {
   "cell_type": "code",
   "execution_count": null,
   "metadata": {
    "collapsed": false
   },
   "outputs": [],
   "source": [
    "#obs.sed.wavelength"
   ]
  },
  {
   "cell_type": "code",
   "execution_count": null,
   "metadata": {
    "collapsed": false
   },
   "outputs": [],
   "source": [
    "#obs.sed.plot()"
   ]
  },
  {
   "cell_type": "markdown",
   "metadata": {},
   "source": [
    "Using these it's simple to plot an observed and model SED together, and then customize the plot however you'd like:"
   ]
  },
  {
   "cell_type": "code",
   "execution_count": null,
   "metadata": {
    "collapsed": false
   },
   "outputs": [],
   "source": [
    "#ax = model.sed.plot()\n",
    "#obs.sed.plot(overplot=True)\n",
    "\n",
    "#ax.set_xlim(0.05, 3e5)\n",
    "#ax.set_title('Comparison of some model and data')"
   ]
  },
  {
   "cell_type": "markdown",
   "metadata": {},
   "source": [
    "## Misc Scratch Space Code Below Here"
   ]
  },
  {
   "cell_type": "code",
   "execution_count": 18,
   "metadata": {
    "collapsed": false
   },
   "outputs": [
    {
     "data": {
      "text/plain": [
       "rec.array((4000.0, 2.0, 1.0, b'lte4000-3.5.NextGen.fits.gz', True, 2.2, 0.0, 0.0, 0.0, 0.1), \n",
       "          dtype=[('temp', '<f8'), ('radius', '<f8'), ('mass', '<f8'), ('spectrum', '|S80'), ('l_is_blackbody', '|b1'), ('slope_fUV', '<f8'), ('z', '<f8'), ('y', '<f8'), ('x', '<f8'), ('fUV', '<f8')])"
      ]
     },
     "execution_count": 18,
     "metadata": {},
     "output_type": "execute_result"
    }
   ],
   "source": [
    "par.star"
   ]
  },
  {
   "cell_type": "code",
   "execution_count": 25,
   "metadata": {
    "collapsed": false
   },
   "outputs": [
    {
     "name": "stdout",
     "output_type": "stream",
     "text": [
      "(numpy.record, [('temp', '<f8'), ('radius', '<f8'), ('mass', '<f8'), ('spectrum', 'S80'), ('l_is_blackbody', '?'), ('slope_fUV', '<f8'), ('z', '<f8'), ('y', '<f8'), ('x', '<f8'), ('fUV', '<f8')])\n"
     ]
    }
   ],
   "source": [
    "names = par.star.dtype\n",
    "#values = np.asarray(par.star[0].values())\n",
    "#dtypes = ['a30' if n=='spectrum' else 'f8' for n in names]\n",
    "print(names)\n",
    "\n",
    "#np.array(par.star[0].items(), dtype=dtypes)"
   ]
  }
 ],
 "metadata": {
  "kernelspec": {
   "display_name": "Python 3",
   "language": "python",
   "name": "python3"
  },
  "language_info": {
   "codemirror_mode": {
    "name": "ipython",
    "version": 3
   },
   "file_extension": ".py",
   "mimetype": "text/x-python",
   "name": "python",
   "nbconvert_exporter": "python",
   "pygments_lexer": "ipython3",
   "version": "3.4.3"
  }
 },
 "nbformat": 4,
 "nbformat_minor": 0
}
