{
 "cells": [
  {
   "cell_type": "code",
   "execution_count": 12,
   "id": "c4425025-9d8f-4420-a338-7cc88c018fb9",
   "metadata": {},
   "outputs": [
    {
     "name": "stdout",
     "output_type": "stream",
     "text": [
      "Obtaining file:///home/yuchia/github/mcfost-python\n",
      "  Preparing metadata (setup.py) ... \u001b[?25ldone\n",
      "\u001b[?25hInstalling collected packages: mcfost\n",
      "  Running setup.py develop for mcfost\n",
      "Successfully installed mcfost-0.3\n"
     ]
    }
   ],
   "source": [
    "!pip install -e ."
   ]
  }
 ],
 "metadata": {
  "kernelspec": {
   "display_name": "Python 3 (ipykernel)",
   "language": "python",
   "name": "python3"
  },
  "language_info": {
   "codemirror_mode": {
    "name": "ipython",
    "version": 3
   },
   "file_extension": ".py",
   "mimetype": "text/x-python",
   "name": "python",
   "nbconvert_exporter": "python",
   "pygments_lexer": "ipython3",
   "version": "3.11.4"
  }
 },
 "nbformat": 4,
 "nbformat_minor": 5
}
